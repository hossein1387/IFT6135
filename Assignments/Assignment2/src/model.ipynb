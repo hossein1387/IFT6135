{
 "cells": [
  {
   "cell_type": "code",
   "execution_count": null,
   "metadata": {},
   "outputs": [],
   "source": [
    "import csv\n",
    "import torch.nn as nn\n",
    "import torch.optim as optim\n",
    "from torch.autograd import Variable\n",
    "import config\n",
    "from tensorboardX import SummaryWriter"
   ]
  },
  {
   "cell_type": "code",
   "execution_count": null,
   "metadata": {},
   "outputs": [],
   "source": [
    "class MLPb(nn.Module):\n",
    "    def __init__(self, config):\n",
    "        super(MLP, self).__init__()\n",
    "        self.config = config\n",
    "        self.model = nn.Sequential(\n",
    "            nn.Linear(784, config.num_neorons_l1),\n",
    "            nn.ReLU(),\n",
    "            nn.Linear(config.num_neorons_l1, config.num_neorons_l2),\n",
    "            nn.Dropout(p=0.5),\n",
    "            nn.ReLU(),\n",
    "            nn.Linear(config.num_neorons_l2, 10)),\n",
    "        \n",
    "    def forward(self, x):\n",
    "        output = self.model(x)\n",
    "        return output"
   ]
  },
  {
   "cell_type": "code",
   "execution_count": null,
   "metadata": {},
   "outputs": [],
   "source": [
    "class MLPa(nn.Module):\n",
    "    def __init__(self, config):\n",
    "        super(MLP, self).__init__()\n",
    "        self.config = config\n",
    "        self.model = nn.Sequential(\n",
    "            nn.Linear(784, config.num_neorons_l1),\n",
    "            nn.ReLU(),\n",
    "            nn.Linear(config.num_neorons_l1, config.num_neorons_l2),\n",
    "            nn.ReLU(),\n",
    "            nn.Linear(config.num_neorons_l2, 10)) \n",
    "        \n",
    "    def forward(self, x):\n",
    "        output = self.model(x)\n",
    "        return output"
   ]
  },
  {
   "cell_type": "code",
   "execution_count": null,
   "metadata": {},
   "outputs": [],
   "source": [
    "class CNN(nn.Module):\n",
    "    def __init__(self):\n",
    "        super(Classifier, self).__init__()\n",
    "        self.conv = nn.Sequential(\n",
    "            # Layer 1\n",
    "            nn.Conv2d(in_channels=1, out_channels=16, kernel_size=(3, 3), padding=1),\n",
    "            nn.Dropout(p=0.5),\n",
    "            nn.ReLU(),\n",
    "            nn.MaxPool2d(kernel_size=(2, 2), stride=2),\n",
    "            \n",
    "            # Layer 2\n",
    "            nn.Conv2d(in_channels=16, out_channels=32, kernel_size=(3, 3), padding=1),\n",
    "            nn.Dropout(p=0.5),\n",
    "            nn.ReLU(),\n",
    "            nn.MaxPool2d(kernel_size=(2, 2), stride=2),\n",
    "            \n",
    "            # Layer 3\n",
    "            nn.Conv2d(in_channels=32, out_channels=64, kernel_size=(3, 3), padding=1),\n",
    "            nn.Dropout(p=0.5),\n",
    "            nn.ReLU(),\n",
    "            nn.MaxPool2d(kernel_size=(2, 2), stride=2),\n",
    "            \n",
    "            # Layer 4\n",
    "            nn.Conv2d(in_channels=64, out_channels=128, kernel_size=(3, 3), padding=1),\n",
    "            nn.Dropout(p=0.5),\n",
    "            nn.ReLU(),\n",
    "            nn.MaxPool2d(kernel_size=(2, 2), stride=2)\n",
    "        )\n",
    "        # Logistic Regression\n",
    "        self.clf = nn.Linear(128, 10)\n",
    "\n",
    "    def forward(self, x):\n",
    "        return self.clf(self.conv(x).squeeze())   "
   ]
  },
  {
   "cell_type": "code",
   "execution_count": null,
   "metadata": {},
   "outputs": [],
   "source": [
    "def build_model(config):\n",
    "    if config.model_type == MLPa():\n",
    "        model = MLPa(config)\n",
    "    elif config.model_type == MLPb():\n",
    "        model = MLPb(config)\n",
    "    elif config.model_type == CNN():\n",
    "        model = CNN(config)\n",
    "    model.apply(weights_init)\n",
    "    criterion = nn.CrossEntropyLoss()\n",
    "    optimizer = optim.SGD(model.parameters(), lr=config.lr0, weight_decay = config.weight_decay)\n",
    "    return model, criterion, optimizer"
   ]
  },
  {
   "cell_type": "code",
   "execution_count": null,
   "metadata": {},
   "outputs": [],
   "source": [
    "torch.norm(input, p=2) #change input"
   ]
  },
  {
   "cell_type": "code",
   "execution_count": null,
   "metadata": {},
   "outputs": [],
   "source": [
    "# USES TENSORBOARDX http://tensorboard-pytorch.readthedocs.io/en/latest/tensorboard.html\n",
    "\n",
    "def train_model(model, config, criterion, optimizer):\n",
    "    losses = 0\n",
    "    writer = SummaryWriter('isaacsultan/IFT6135/Assignments/Assignment2/logs')\n",
    "    # record the performance for this epoch\n",
    "    train_data, valid_data, test_data = utility.load_dataset(\"mnist.pkl\", config)\n",
    "    \n",
    "    for epoch in enumerate(config.num_epochs):\n",
    "        # iterate over batches\n",
    "        # the shape of train_data[0] must be 500 x 100 x 784\n",
    "        # the shape of train_data[1] must be 500 x 100\n",
    "        for i in range(train_data[0].shape[0]):\n",
    "            optimizer.zero_grad()\n",
    "            x = Variable(torch.from_numpy(train_data[0][i]))\n",
    "            y = Variable(torch.from_numpy(train_data[1][i]))\n",
    "            optimizer.zero_grad()\n",
    "            # compute loss\n",
    "            loss = criterion(model(x), y)\n",
    "            # compute gradients and update parameters\n",
    "            loss.backward()\n",
    "            # take one SGD step\n",
    "            optimizer.step()\n",
    "        # record the performance for this epoch\n",
    "        writer.add_scalars('learning_curve', {'train_loss' = train_loss, \n",
    "                                             'test_loss' = test_loss}, epoch)\n",
    "        # print the results for this epoch\n",
    "        print(\"Epoch {0} \\n Train Loss : {1:.3f} \\Test Loss : {2:.3f}\".format(epoch, train_loss, test_loss))\n",
    "        "
   ]
  },
  {
   "cell_type": "code",
   "execution_count": null,
   "metadata": {},
   "outputs": [],
   "source": [
    "def main():\n",
    "    args = utility.parse_args()\n",
    "    config_type = args['configtype']\n",
    "    config_file = args['configfile']\n",
    "    pdb.set_trace()\n",
    "    config = config.Configuration(config_type, config_file)\n",
    "    model, criterion, optimizer = build_model(config)\n",
    "    train_model(model, config, criterion, optimizer)\n"
   ]
  },
  {
   "cell_type": "code",
   "execution_count": null,
   "metadata": {},
   "outputs": [],
   "source": [
    "if __name__ == '__main__':\n",
    "    main()"
   ]
  }
 ],
 "metadata": {
  "kernelspec": {
   "display_name": "Python [default]",
   "language": "python",
   "name": "python2"
  },
  "language_info": {
   "codemirror_mode": {
    "name": "ipython",
    "version": 2
   },
   "file_extension": ".py",
   "mimetype": "text/x-python",
   "name": "python",
   "nbconvert_exporter": "python",
   "pygments_lexer": "ipython2",
   "version": "2.7.14"
  }
 },
 "nbformat": 4,
 "nbformat_minor": 2
}
